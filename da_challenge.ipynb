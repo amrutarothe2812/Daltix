{
  "nbformat": 4,
  "nbformat_minor": 0,
  "metadata": {
    "kernelspec": {
      "display_name": "Python 3",
      "language": "python",
      "name": "python3"
    },
    "language_info": {
      "codemirror_mode": {
        "name": "ipython",
        "version": 3
      },
      "file_extension": ".py",
      "mimetype": "text/x-python",
      "name": "python",
      "nbconvert_exporter": "python",
      "pygments_lexer": "ipython3",
      "version": "3.6.8"
    },
    "colab": {
      "name": "da_challenge.ipynb",
      "provenance": [],
      "collapsed_sections": [],
      "toc_visible": true,
      "include_colab_link": true
    }
  },
  "cells": [
    {
      "cell_type": "markdown",
      "metadata": {
        "id": "view-in-github",
        "colab_type": "text"
      },
      "source": [
        "<a href=\"https://colab.research.google.com/github/amrutarothe2812/Daltix/blob/master/da_challenge.ipynb\" target=\"_parent\"><img src=\"https://colab.research.google.com/assets/colab-badge.svg\" alt=\"Open In Colab\"/></a>"
      ]
    },
    {
      "cell_type": "markdown",
      "metadata": {
        "id": "2xwoYkA1x6Tl",
        "colab_type": "text"
      },
      "source": [
        "# **Daltix Data Analyst Challenge**\n",
        "In this challenge you will explore a subset of data that mirrors (in a simplified manner) some of the data we work with at Daltix.  \n",
        "The goal of this challenge is to explore the data we provide and share all insights you find relevant in a business-friendly manner.\n",
        "  \n",
        "Some tips:\n",
        "* Imagine you are presenting these to both technical and non-technical members of your company. \n",
        "* Take into consideration that the code you produce should be readable and reusable by a colleague in the future.\n",
        "\n",
        "\n",
        "**Good luck**! 😀\n",
        "\n",
        "> The Daltix Team\n",
        "______________"
      ]
    },
    {
      "cell_type": "markdown",
      "metadata": {
        "id": "lPBDl4Jvx6Tm",
        "colab_type": "text"
      },
      "source": [
        "### The Challenge starts here"
      ]
    },
    {
      "cell_type": "code",
      "metadata": {
        "id": "ga6Lv3N9x6Tn",
        "colab_type": "code",
        "colab": {}
      },
      "source": [
        "import pandas as pd\n",
        "import pandasql as ps\n",
        "from pandasql import sqldf\n",
        "# ..."
      ],
      "execution_count": 0,
      "outputs": []
    },
    {
      "cell_type": "markdown",
      "metadata": {
        "id": "mknkQThGx6Tr",
        "colab_type": "text"
      },
      "source": [
        "______________\n",
        "## 1. Extract the data\n",
        "**Description**\n",
        "\n",
        "In this section you will focus on importing the files from the dataset that was provided and do a simple QA of the data.\n",
        "  \n",
        "After completing it you should be have all 4 tables locally available.\n",
        "\n",
        "_Question:_\n",
        "* Did you notice any quality issues with the files we provided? If so, can you list them? How did you deal with them? "
      ]
    },
    {
      "cell_type": "markdown",
      "metadata": {
        "id": "-lR7YcKrzGMW",
        "colab_type": "text"
      },
      "source": [
        "The product.csv dataset had *content* column in Json\n",
        "format. I split the column in 3, approximate_content, content_unit and content_value respectively.\n"
      ]
    },
    {
      "cell_type": "code",
      "metadata": {
        "id": "Cbdk8dM7x6Ts",
        "colab_type": "code",
        "colab": {
          "base_uri": "https://localhost:8080/",
          "height": 394
        },
        "outputId": "418de5d1-b77f-41ff-a813-adee2054a920"
      },
      "source": [
        "# Import product.csv and format the columns\n",
        "import pandas.io.json as json\n",
        "\n",
        "productDf = pd.read_csv('product.csv')\n",
        "\n",
        "productDf.contents = productDf.contents.str.replace('\\n', '')\n",
        "\n",
        "productDf = productDf.join(json.json_normalize(productDf['contents'].map(json.loads).tolist())).drop(['contents'], axis=1)\n",
        "productDf.head()"
      ],
      "execution_count": 5,
      "outputs": [
        {
          "output_type": "execute_result",
          "data": {
            "text/html": [
              "<div>\n",
              "<style scoped>\n",
              "    .dataframe tbody tr th:only-of-type {\n",
              "        vertical-align: middle;\n",
              "    }\n",
              "\n",
              "    .dataframe tbody tr th {\n",
              "        vertical-align: top;\n",
              "    }\n",
              "\n",
              "    .dataframe thead th {\n",
              "        text-align: right;\n",
              "    }\n",
              "</style>\n",
              "<table border=\"1\" class=\"dataframe\">\n",
              "  <thead>\n",
              "    <tr style=\"text-align: right;\">\n",
              "      <th></th>\n",
              "      <th>daltix_id</th>\n",
              "      <th>product_id</th>\n",
              "      <th>article_nr</th>\n",
              "      <th>shop</th>\n",
              "      <th>country</th>\n",
              "      <th>name</th>\n",
              "      <th>brand</th>\n",
              "      <th>eans</th>\n",
              "      <th>approximate_content</th>\n",
              "      <th>content_unit</th>\n",
              "      <th>content_value</th>\n",
              "    </tr>\n",
              "  </thead>\n",
              "  <tbody>\n",
              "    <tr>\n",
              "      <th>0</th>\n",
              "      <td>001b94cf378a9827f698393795988539bdc1909a70674d...</td>\n",
              "      <td>832766</td>\n",
              "      <td>2474959.0</td>\n",
              "      <td>shop4</td>\n",
              "      <td>be</td>\n",
              "      <td>Nivea sun SOS Aftersun herstel. 200ml</td>\n",
              "      <td>Nivea sun</td>\n",
              "      <td>NaN</td>\n",
              "      <td>false</td>\n",
              "      <td>ml</td>\n",
              "      <td>200</td>\n",
              "    </tr>\n",
              "    <tr>\n",
              "      <th>1</th>\n",
              "      <td>002c30e9451e4f42283545ba979ac8a7f807668e85c55a...</td>\n",
              "      <td>3263396</td>\n",
              "      <td>158087.0</td>\n",
              "      <td>shop3</td>\n",
              "      <td>be</td>\n",
              "      <td>BRABANTIA Tasty ijsschep munt</td>\n",
              "      <td>BRABANTIA</td>\n",
              "      <td>NaN</td>\n",
              "      <td>NaN</td>\n",
              "      <td>NaN</td>\n",
              "      <td>NaN</td>\n",
              "    </tr>\n",
              "    <tr>\n",
              "      <th>2</th>\n",
              "      <td>005d13004d634e1eb2e384239d0f328bc8ec445556b6c6...</td>\n",
              "      <td>10763</td>\n",
              "      <td>3816367.0</td>\n",
              "      <td>shop4</td>\n",
              "      <td>be</td>\n",
              "      <td>Boerinneke hagelslag suikervrij 200g</td>\n",
              "      <td>Boerinneke</td>\n",
              "      <td>[\\n  \"05411146223898\"\\n]</td>\n",
              "      <td>false</td>\n",
              "      <td>g</td>\n",
              "      <td>200</td>\n",
              "    </tr>\n",
              "    <tr>\n",
              "      <th>3</th>\n",
              "      <td>005eb33441fd41c81ba3bced9ab90e48b71fafcfe18f0e...</td>\n",
              "      <td>6479</td>\n",
              "      <td>NaN</td>\n",
              "      <td>shop1</td>\n",
              "      <td>nl</td>\n",
              "      <td>Slips of strings</td>\n",
              "      <td>NaN</td>\n",
              "      <td>NaN</td>\n",
              "      <td>false</td>\n",
              "      <td>pack</td>\n",
              "      <td>2</td>\n",
              "    </tr>\n",
              "    <tr>\n",
              "      <th>4</th>\n",
              "      <td>00622df3e2f6236a5f09e44b400acaaaec363f699d1ef4...</td>\n",
              "      <td>4024160</td>\n",
              "      <td>5287.0</td>\n",
              "      <td>shop3</td>\n",
              "      <td>be</td>\n",
              "      <td>BONI Torpedo RaketStarship</td>\n",
              "      <td>BONI</td>\n",
              "      <td>[\\n  \"05400141240870\"\\n]</td>\n",
              "      <td>false</td>\n",
              "      <td>ml</td>\n",
              "      <td>600</td>\n",
              "    </tr>\n",
              "  </tbody>\n",
              "</table>\n",
              "</div>"
            ],
            "text/plain": [
              "                                           daltix_id  ... content_value\n",
              "0  001b94cf378a9827f698393795988539bdc1909a70674d...  ...           200\n",
              "1  002c30e9451e4f42283545ba979ac8a7f807668e85c55a...  ...           NaN\n",
              "2  005d13004d634e1eb2e384239d0f328bc8ec445556b6c6...  ...           200\n",
              "3  005eb33441fd41c81ba3bced9ab90e48b71fafcfe18f0e...  ...             2\n",
              "4  00622df3e2f6236a5f09e44b400acaaaec363f699d1ef4...  ...           600\n",
              "\n",
              "[5 rows x 11 columns]"
            ]
          },
          "metadata": {
            "tags": []
          },
          "execution_count": 5
        }
      ]
    },
    {
      "cell_type": "markdown",
      "metadata": {
        "id": "z2ic1_rG0Ip7",
        "colab_type": "text"
      },
      "source": [
        "Import category dataset. This dataset had invalid and special characters in the *categories* column."
      ]
    },
    {
      "cell_type": "code",
      "metadata": {
        "id": "r6rKuioJ0PxW",
        "colab_type": "code",
        "colab": {
          "base_uri": "https://localhost:8080/",
          "height": 204
        },
        "outputId": "871f279a-c37e-44e8-b628-20a71c1fe683"
      },
      "source": [
        "categoryDf = pd.read_csv('category.csv', sep = '|')\n",
        "#Start of data cleaning\n",
        "categoryDf['categories'] = categoryDf['categories'].str.replace(r'\\n', '') \n",
        "categoryDf['categories'] = categoryDf['categories'].str.replace(r'[', '')\n",
        "categoryDf['categories'] = categoryDf['categories'].str.replace(r']', '')\n",
        "categoryDf['categories'] = categoryDf['categories'].str.replace('\"',\"\")\n",
        "categoryDf['categories'] = categoryDf['categories'].str.strip()\n",
        "#End of data cleaning\n",
        "categoryDf.head()"
      ],
      "execution_count": 6,
      "outputs": [
        {
          "output_type": "execute_result",
          "data": {
            "text/html": [
              "<div>\n",
              "<style scoped>\n",
              "    .dataframe tbody tr th:only-of-type {\n",
              "        vertical-align: middle;\n",
              "    }\n",
              "\n",
              "    .dataframe tbody tr th {\n",
              "        vertical-align: top;\n",
              "    }\n",
              "\n",
              "    .dataframe thead th {\n",
              "        text-align: right;\n",
              "    }\n",
              "</style>\n",
              "<table border=\"1\" class=\"dataframe\">\n",
              "  <thead>\n",
              "    <tr style=\"text-align: right;\">\n",
              "      <th></th>\n",
              "      <th>shop</th>\n",
              "      <th>country</th>\n",
              "      <th>daltix_id</th>\n",
              "      <th>categories</th>\n",
              "    </tr>\n",
              "  </thead>\n",
              "  <tbody>\n",
              "    <tr>\n",
              "      <th>0</th>\n",
              "      <td>shop4</td>\n",
              "      <td>be</td>\n",
              "      <td>21da5385ea831537d7c7b5b298f2d7eefbb2ec81413adb...</td>\n",
              "      <td>Groenten en fruit,    Verse groenten,    Aarda...</td>\n",
              "    </tr>\n",
              "    <tr>\n",
              "      <th>1</th>\n",
              "      <td>shop1</td>\n",
              "      <td>nl</td>\n",
              "      <td>1095d3a2e7aca5753a104d5d3c1106d0333f20d565f418...</td>\n",
              "      <td>Onze aanbiedingen,    Weekactie v.a. ma. 22-07</td>\n",
              "    </tr>\n",
              "    <tr>\n",
              "      <th>2</th>\n",
              "      <td>shop1</td>\n",
              "      <td>nl</td>\n",
              "      <td>70b4b5051757b3dc4f91463736c6636dcdb9bc02bd262b...</td>\n",
              "      <td>Onze aanbiedingen,    Aanbiedingen v.a. do. 25-07</td>\n",
              "    </tr>\n",
              "    <tr>\n",
              "      <th>3</th>\n",
              "      <td>shop1</td>\n",
              "      <td>nl</td>\n",
              "      <td>55e5629d4fe138d2449d6f39a2b61f0b32d52493decb7e...</td>\n",
              "      <td>Onze aanbiedingen,    Weekendactie v.a. vr. 23-08</td>\n",
              "    </tr>\n",
              "    <tr>\n",
              "      <th>4</th>\n",
              "      <td>shop4</td>\n",
              "      <td>be</td>\n",
              "      <td>1ca5dc935e07f0d85c37f4e0b2e6d61611868d447ece87...</td>\n",
              "      <td>Lichaamsverzorging/Parfumerie,    Zonneproduct...</td>\n",
              "    </tr>\n",
              "  </tbody>\n",
              "</table>\n",
              "</div>"
            ],
            "text/plain": [
              "    shop  ...                                         categories\n",
              "0  shop4  ...  Groenten en fruit,    Verse groenten,    Aarda...\n",
              "1  shop1  ...     Onze aanbiedingen,    Weekactie v.a. ma. 22-07\n",
              "2  shop1  ...  Onze aanbiedingen,    Aanbiedingen v.a. do. 25-07\n",
              "3  shop1  ...  Onze aanbiedingen,    Weekendactie v.a. vr. 23-08\n",
              "4  shop4  ...  Lichaamsverzorging/Parfumerie,    Zonneproduct...\n",
              "\n",
              "[5 rows x 4 columns]"
            ]
          },
          "metadata": {
            "tags": []
          },
          "execution_count": 6
        }
      ]
    },
    {
      "cell_type": "markdown",
      "metadata": {
        "id": "fX-HRe-s0_nx",
        "colab_type": "text"
      },
      "source": [
        "Import Price dataset"
      ]
    },
    {
      "cell_type": "code",
      "metadata": {
        "id": "DPU4M_Wh1C1K",
        "colab_type": "code",
        "colab": {
          "base_uri": "https://localhost:8080/",
          "height": 204
        },
        "outputId": "2605a4df-5e40-4344-abc2-1d2fb7ce6a47"
      },
      "source": [
        "priceDf = pd.read_csv('price.csv')\n",
        "priceDf.head()"
      ],
      "execution_count": 7,
      "outputs": [
        {
          "output_type": "execute_result",
          "data": {
            "text/html": [
              "<div>\n",
              "<style scoped>\n",
              "    .dataframe tbody tr th:only-of-type {\n",
              "        vertical-align: middle;\n",
              "    }\n",
              "\n",
              "    .dataframe tbody tr th {\n",
              "        vertical-align: top;\n",
              "    }\n",
              "\n",
              "    .dataframe thead th {\n",
              "        text-align: right;\n",
              "    }\n",
              "</style>\n",
              "<table border=\"1\" class=\"dataframe\">\n",
              "  <thead>\n",
              "    <tr style=\"text-align: right;\">\n",
              "      <th></th>\n",
              "      <th>daltix_id</th>\n",
              "      <th>shop</th>\n",
              "      <th>country</th>\n",
              "      <th>product_id</th>\n",
              "      <th>location</th>\n",
              "      <th>price</th>\n",
              "      <th>unit_std</th>\n",
              "      <th>date</th>\n",
              "    </tr>\n",
              "  </thead>\n",
              "  <tbody>\n",
              "    <tr>\n",
              "      <th>0</th>\n",
              "      <td>0000ba625520cd774f3fc738e27d9d2beb795995c99c38...</td>\n",
              "      <td>shop4</td>\n",
              "      <td>be</td>\n",
              "      <td>888810</td>\n",
              "      <td>ans</td>\n",
              "      <td>14.99</td>\n",
              "      <td>su</td>\n",
              "      <td>2019-10-09</td>\n",
              "    </tr>\n",
              "    <tr>\n",
              "      <th>1</th>\n",
              "      <td>00029d74a62169da3141e55c31751ef071b9e39c54329e...</td>\n",
              "      <td>shop3</td>\n",
              "      <td>be</td>\n",
              "      <td>14933</td>\n",
              "      <td>ans</td>\n",
              "      <td>1.75</td>\n",
              "      <td>su</td>\n",
              "      <td>2019-08-07</td>\n",
              "    </tr>\n",
              "    <tr>\n",
              "      <th>2</th>\n",
              "      <td>00029d74a62169da3141e55c31751ef071b9e39c54329e...</td>\n",
              "      <td>shop3</td>\n",
              "      <td>be</td>\n",
              "      <td>14933</td>\n",
              "      <td>ans</td>\n",
              "      <td>1.75</td>\n",
              "      <td>su</td>\n",
              "      <td>2019-10-07</td>\n",
              "    </tr>\n",
              "    <tr>\n",
              "      <th>3</th>\n",
              "      <td>00029d74a62169da3141e55c31751ef071b9e39c54329e...</td>\n",
              "      <td>shop3</td>\n",
              "      <td>be</td>\n",
              "      <td>14933</td>\n",
              "      <td>ans</td>\n",
              "      <td>7.00</td>\n",
              "      <td>kg</td>\n",
              "      <td>2019-10-03</td>\n",
              "    </tr>\n",
              "    <tr>\n",
              "      <th>4</th>\n",
              "      <td>00029d74a62169da3141e55c31751ef071b9e39c54329e...</td>\n",
              "      <td>shop3</td>\n",
              "      <td>be</td>\n",
              "      <td>14933</td>\n",
              "      <td>ledeberg</td>\n",
              "      <td>6.84</td>\n",
              "      <td>kg</td>\n",
              "      <td>2019-08-10</td>\n",
              "    </tr>\n",
              "  </tbody>\n",
              "</table>\n",
              "</div>"
            ],
            "text/plain": [
              "                                           daltix_id  ...        date\n",
              "0  0000ba625520cd774f3fc738e27d9d2beb795995c99c38...  ...  2019-10-09\n",
              "1  00029d74a62169da3141e55c31751ef071b9e39c54329e...  ...  2019-08-07\n",
              "2  00029d74a62169da3141e55c31751ef071b9e39c54329e...  ...  2019-10-07\n",
              "3  00029d74a62169da3141e55c31751ef071b9e39c54329e...  ...  2019-10-03\n",
              "4  00029d74a62169da3141e55c31751ef071b9e39c54329e...  ...  2019-08-10\n",
              "\n",
              "[5 rows x 8 columns]"
            ]
          },
          "metadata": {
            "tags": []
          },
          "execution_count": 7
        }
      ]
    },
    {
      "cell_type": "markdown",
      "metadata": {
        "id": "qyFlBbKu1NLn",
        "colab_type": "text"
      },
      "source": [
        "Import promotion dataset"
      ]
    },
    {
      "cell_type": "code",
      "metadata": {
        "id": "vdJ8PBqU1PBs",
        "colab_type": "code",
        "colab": {
          "base_uri": "https://localhost:8080/",
          "height": 289
        },
        "outputId": "84b22c2b-6bb0-4d4f-e8a5-f2621e45d0a0"
      },
      "source": [
        "promoDf = pd.read_csv('promo.csv')\n",
        "promoDf.head()"
      ],
      "execution_count": 8,
      "outputs": [
        {
          "output_type": "execute_result",
          "data": {
            "text/html": [
              "<div>\n",
              "<style scoped>\n",
              "    .dataframe tbody tr th:only-of-type {\n",
              "        vertical-align: middle;\n",
              "    }\n",
              "\n",
              "    .dataframe tbody tr th {\n",
              "        vertical-align: top;\n",
              "    }\n",
              "\n",
              "    .dataframe thead th {\n",
              "        text-align: right;\n",
              "    }\n",
              "</style>\n",
              "<table border=\"1\" class=\"dataframe\">\n",
              "  <thead>\n",
              "    <tr style=\"text-align: right;\">\n",
              "      <th></th>\n",
              "      <th>daltix_id</th>\n",
              "      <th>shop</th>\n",
              "      <th>country</th>\n",
              "      <th>location</th>\n",
              "      <th>promo_type</th>\n",
              "      <th>dlevel</th>\n",
              "      <th>date</th>\n",
              "    </tr>\n",
              "  </thead>\n",
              "  <tbody>\n",
              "    <tr>\n",
              "      <th>0</th>\n",
              "      <td>d264f89c1d56a03ac2ad1fb79c2f58f246b4eb00f39647...</td>\n",
              "      <td>shop3</td>\n",
              "      <td>be</td>\n",
              "      <td>ledeberg</td>\n",
              "      <td>Price cut with MinAmount Condition</td>\n",
              "      <td>0.200000</td>\n",
              "      <td>2019-09-04</td>\n",
              "    </tr>\n",
              "    <tr>\n",
              "      <th>1</th>\n",
              "      <td>0868046f91601046f805187f8f029af152634724d42483...</td>\n",
              "      <td>shop4</td>\n",
              "      <td>be</td>\n",
              "      <td>ledeberg</td>\n",
              "      <td>Price cut with MinAmount Condition</td>\n",
              "      <td>0.300000</td>\n",
              "      <td>2019-08-11</td>\n",
              "    </tr>\n",
              "    <tr>\n",
              "      <th>2</th>\n",
              "      <td>eab88f8cf357d31f139762dad0c481b5cd7a8e6c7ace93...</td>\n",
              "      <td>shop3</td>\n",
              "      <td>be</td>\n",
              "      <td>ledeberg</td>\n",
              "      <td>Price cut with MinAmount Condition</td>\n",
              "      <td>0.333400</td>\n",
              "      <td>2019-09-19</td>\n",
              "    </tr>\n",
              "    <tr>\n",
              "      <th>3</th>\n",
              "      <td>edb8f9fbdfa192377bb54362166e4ddc422db6bc94bad9...</td>\n",
              "      <td>shop4</td>\n",
              "      <td>be</td>\n",
              "      <td>ans</td>\n",
              "      <td>Price cut with MinAmount Condition</td>\n",
              "      <td>0.300000</td>\n",
              "      <td>2019-08-17</td>\n",
              "    </tr>\n",
              "    <tr>\n",
              "      <th>4</th>\n",
              "      <td>954ebce9a5c18db4e9b67407c3447c433a88f30b67217f...</td>\n",
              "      <td>shop3</td>\n",
              "      <td>be</td>\n",
              "      <td>ans</td>\n",
              "      <td>Price cut with MinAmount Condition</td>\n",
              "      <td>0.097674</td>\n",
              "      <td>2019-08-21</td>\n",
              "    </tr>\n",
              "  </tbody>\n",
              "</table>\n",
              "</div>"
            ],
            "text/plain": [
              "                                           daltix_id  ...        date\n",
              "0  d264f89c1d56a03ac2ad1fb79c2f58f246b4eb00f39647...  ...  2019-09-04\n",
              "1  0868046f91601046f805187f8f029af152634724d42483...  ...  2019-08-11\n",
              "2  eab88f8cf357d31f139762dad0c481b5cd7a8e6c7ace93...  ...  2019-09-19\n",
              "3  edb8f9fbdfa192377bb54362166e4ddc422db6bc94bad9...  ...  2019-08-17\n",
              "4  954ebce9a5c18db4e9b67407c3447c433a88f30b67217f...  ...  2019-08-21\n",
              "\n",
              "[5 rows x 7 columns]"
            ]
          },
          "metadata": {
            "tags": []
          },
          "execution_count": 8
        }
      ]
    },
    {
      "cell_type": "markdown",
      "metadata": {
        "id": "k4whH_RBx6Tu",
        "colab_type": "text"
      },
      "source": [
        "_____________________\n",
        "## 2. Explore the dataset\n",
        "\n",
        "**Requirements:**\n",
        "Use `pandasql` to query the tables and explore the dataset\n",
        "\n",
        "**Description**\n",
        "\n",
        "In this section you are free to explore the data however you like in order get to know your dataset. It's meant to be exploratory and only for you to get familiar with the data.\n",
        "\n",
        "At the end of this section you should be able to, at least, answer the following questions:\n",
        "* For which time interval you have prices for?\n",
        "* How many shops are comprised in the dataset?\n",
        "* How many different products are there per shop in the dataset?\n",
        "* Can a product have more than 1 active promotion at the same time? \n",
        "\n",
        "You are free (and __encouraged__) to further describe the dataset as you see fit."
      ]
    },
    {
      "cell_type": "markdown",
      "metadata": {
        "id": "qHKaY2pT1jHa",
        "colab_type": "text"
      },
      "source": [
        "* For which time interval you have prices for?\n",
        "\n",
        "  `2019-08-01 to 2019-10-15`"
      ]
    },
    {
      "cell_type": "code",
      "metadata": {
        "id": "JHCXQWjZ1kum",
        "colab_type": "code",
        "colab": {
          "base_uri": "https://localhost:8080/",
          "height": 51
        },
        "outputId": "ca4d3d72-3ce7-4094-bca4-f121ab60987e"
      },
      "source": [
        "q1 = \"\"\"SELECT min(date) Start_Date, max(date) End_Date FROM priceDf\"\"\"\n",
        "Date_Range = sqldf(q1)\n",
        "print(Date_Range.to_string(index=False))"
      ],
      "execution_count": 10,
      "outputs": [
        {
          "output_type": "stream",
          "text": [
            " Start_Date    End_Date\n",
            " 2019-08-01  2019-10-15\n"
          ],
          "name": "stdout"
        }
      ]
    },
    {
      "cell_type": "markdown",
      "metadata": {
        "id": "D4syL12L2Mzu",
        "colab_type": "text"
      },
      "source": [
        "* How many shops are comprised in the dataset?\n",
        "\n",
        "    `4`"
      ]
    },
    {
      "cell_type": "code",
      "metadata": {
        "id": "1aUQJWYu2SPD",
        "colab_type": "code",
        "colab": {
          "base_uri": "https://localhost:8080/",
          "height": 51
        },
        "outputId": "7498d78c-ba2b-41aa-d343-9bc241502666"
      },
      "source": [
        "q2 = \"\"\"SELECT COUNT(DISTINCT shop) AS Shops FROM productDf\"\"\"\n",
        "No_of_shops = sqldf(q2)\n",
        "print(No_of_shops.to_string(index=False))"
      ],
      "execution_count": 11,
      "outputs": [
        {
          "output_type": "stream",
          "text": [
            " Shops\n",
            "     4\n"
          ],
          "name": "stdout"
        }
      ]
    },
    {
      "cell_type": "markdown",
      "metadata": {
        "id": "Fgm65Zgy2s24",
        "colab_type": "text"
      },
      "source": [
        "* How many different products are there per shop in the dataset?\n"
      ]
    },
    {
      "cell_type": "code",
      "metadata": {
        "id": "iagrLeBxx6Tv",
        "colab_type": "code",
        "colab": {
          "base_uri": "https://localhost:8080/",
          "height": 102
        },
        "outputId": "4a64d8d7-b12a-41c7-8ac0-d6f5b53e87da"
      },
      "source": [
        "q3 = \"\"\"SELECT shop, COUNT(DISTINCT product_id) AS Products FROM productDf\n",
        "GROUP BY 1\n",
        "ORDER BY 1 ASC\"\"\"\n",
        "Products_per_shop = sqldf(q3)\n",
        "print(Products_per_shop.to_string(index=False))"
      ],
      "execution_count": 12,
      "outputs": [
        {
          "output_type": "stream",
          "text": [
            "  shop  Products\n",
            " shop1      1896\n",
            " shop2         6\n",
            " shop3       807\n",
            " shop4      1369\n"
          ],
          "name": "stdout"
        }
      ]
    },
    {
      "cell_type": "markdown",
      "metadata": {
        "id": "LhqdBdGI2_30",
        "colab_type": "text"
      },
      "source": [
        "* Can a product have more than 1 active promotion at the same time?\n",
        "\n",
        "Yes, there were `65` products with more than 1 active promotion at the same time.\n"
      ]
    },
    {
      "cell_type": "code",
      "metadata": {
        "id": "4VnPR8Rl3Crg",
        "colab_type": "code",
        "colab": {
          "base_uri": "https://localhost:8080/",
          "height": 51
        },
        "outputId": "19db61bf-7c9d-46cf-f2ee-90e67a97450d"
      },
      "source": [
        "q4 = \"\"\"WITH Step1 AS \n",
        "(SELECT product_id, date, COUNT(DISTINCT promo_type) AS Promos FROM \n",
        "(SELECT a.product_id, b.promo_type, b.date FROM productDf a INNER JOIN promoDf b ON a.daltix_id = b.daltix_id\n",
        "GROUP BY 1,2,3\n",
        "ORDER BY 1 ASC) \n",
        "GROUP BY 1,2\n",
        "ORDER BY 3 DESC)\n",
        "\n",
        "SELECT COUNT(DISTINCT product_id) AS Products FROM Step1\n",
        "WHERE Promos > 1\n",
        "\"\"\"\n",
        "Promo = sqldf(q4)\n",
        "print(Promo.to_string(index=False))"
      ],
      "execution_count": 13,
      "outputs": [
        {
          "output_type": "stream",
          "text": [
            " Products\n",
            "       65\n"
          ],
          "name": "stdout"
        }
      ]
    },
    {
      "cell_type": "markdown",
      "metadata": {
        "id": "eFCnn_gMx6Tz",
        "colab_type": "text"
      },
      "source": [
        "___________________________\n",
        "## 3 Transformation & Manipulation\n",
        "\n",
        "__Description__\n",
        "\n",
        "In this section you should use the tables provided in the dataset and manipulate them to find valuable business insights.\n",
        "\n",
        "Some questions you should be able to answer:\n",
        "* Which shops have a bigger overlap in their assortment?\n",
        "* Which shop has the overall cheapest assortment? What about cheapest categories?\n",
        "* Which shop is the \"_king_\" of promotions?\n",
        "* Where would you do your shopping? When? Why?\n",
        "* Can you spot any weird price behaviour? \n",
        "\n",
        "The questions above are just some example questions. You should provide any insights you find useful/relevant.\n",
        "\n",
        "_Note:_\n",
        "* Use this section as a prepation for the next!"
      ]
    },
    {
      "cell_type": "markdown",
      "metadata": {
        "id": "KUjrv6el3esw",
        "colab_type": "text"
      },
      "source": [
        "* Which shop is the \"king\" of promotions?\n",
        "\n",
        "  Shop 4 had the highest discount of `33.73%` on an average \n"
      ]
    },
    {
      "cell_type": "code",
      "metadata": {
        "id": "rTSsUt7-x6T0",
        "colab_type": "code",
        "colab": {
          "base_uri": "https://localhost:8080/",
          "height": 51
        },
        "outputId": "30e46852-888c-4994-b6d2-4d60f6a50d3c"
      },
      "source": [
        "#King of promotion\n",
        "q5 = \"\"\"SELECT shop, AVG(dlevel) AS Discount  FROM promoDf\n",
        "GROUP BY 1 \n",
        "ORDER BY 2 DESC\n",
        "LIMIT 1\n",
        "\"\"\"\n",
        "King_of_Promotion = sqldf(q5)\n",
        "print(King_of_Promotion.to_string(index=False))"
      ],
      "execution_count": 14,
      "outputs": [
        {
          "output_type": "stream",
          "text": [
            "  shop  Discount\n",
            " shop4  0.337344\n"
          ],
          "name": "stdout"
        }
      ]
    },
    {
      "cell_type": "markdown",
      "metadata": {
        "id": "igGvRRBdx6T2",
        "colab_type": "text"
      },
      "source": [
        "___________________\n",
        "## 4. Visualization\n",
        "\n",
        "__Description__\n",
        "\n",
        "Imagine you are presenting the insights you found to your team, which include fellow data analysts, data scientists and business colleagues.\n",
        "\n",
        "Present your findings on the insights you've discovered so far. "
      ]
    },
    {
      "cell_type": "code",
      "metadata": {
        "id": "JcQMdSCNx6T3",
        "colab_type": "code",
        "colab": {
          "base_uri": "https://localhost:8080/",
          "height": 298
        },
        "outputId": "84e0bd5c-8678-463b-9623-29e6e7de227f"
      },
      "source": [
        "#Visualisation\n",
        "viz1 = \"\"\"SELECT name, price FROM\n",
        "(SELECT a.name, b.price\n",
        "FROM productDf a INNER JOIN priceDf b ON a.daltix_id = b.daltix_id\n",
        "WHERE a.name IS NOT NULL\n",
        "GROUP BY 1,2\n",
        "ORDER BY 2 DESC)\n",
        "LIMIT 5\n",
        "\"\"\"\n",
        "expensive_products = sqldf(viz1)\n",
        "#expensive_products.name = expensive_products.name.str[:15]\n",
        "ax = expensive_products.sort_values('price', ascending = True).plot.barh(x='name', y='price')\n",
        "ax.set_title('Top 5 most expensive Products' )"
      ],
      "execution_count": 16,
      "outputs": [
        {
          "output_type": "execute_result",
          "data": {
            "text/plain": [
              "Text(0.5, 1.0, 'Top 5 most expensive Products')"
            ]
          },
          "metadata": {
            "tags": []
          },
          "execution_count": 16
        },
        {
          "output_type": "display_data",
          "data": {
            "image/png": "[encoded data removed]",
            "text/plain": [
              "<Figure size 432x288 with 1 Axes>"
            ]
          },
          "metadata": {
            "tags": []
          }
        }
      ]
    },
    {
      "cell_type": "markdown",
      "metadata": {
        "id": "sZsUbyP_x6T5",
        "colab_type": "text"
      },
      "source": [
        "___________________\n",
        "## 5. Discussion\n",
        "\n",
        "__Description__\n",
        "\n",
        "Take some time to prepare some up-coming questions!\n",
        "\n",
        "* If given more time, how would you further refine your analysis? \n",
        "* What other information would you like to have to provide more valuable insigths?"
      ]
    },
    {
      "cell_type": "markdown",
      "metadata": {
        "id": "0L0aqlFJx6T6",
        "colab_type": "text"
      },
      "source": [
        "#### ANSWER HERE\n",
        "> If given time, I would explore in depth about the products and units sold. Also, if the data had time of day purchase, we can see at what time the customers shop most. This will help the shops to create `Rush Hour` shopping deals. \n",
        "\n",
        "I would look into the seasonality of data if given a broader purchase time frame. It is possible that the purchase of products vary in different times of the year."
      ]
    },
    {
      "cell_type": "markdown",
      "metadata": {
        "id": "I4DZVPscx6T7",
        "colab_type": "text"
      },
      "source": [
        "___________________\n",
        "## 6. Bonus question\n",
        "\n",
        "__Description__\n",
        "\n",
        "You now have access to the nutritional values of some products:\n",
        "* **nutri_tbl.csv** - https://daltix-public-interviews.s3-eu-west-1.amazonaws.com/data-analyst-challenge/nutri.csv\n",
        "\n",
        "Assuming that you have to consume between 2200 kcal and 2700 kcal per day, build a basket of 15 products for a [ketogenic diet](https://en.wikipedia.org/wiki/Ketogenic_diet). Where can we buy that basket for the cheapest price? \n",
        "\n",
        "__IMPORTANT__:\n",
        "This is an extra question that you should only focus one if you have time. \n",
        "We will only consider your answer if you solved all the previous sections."
      ]
    },
    {
      "cell_type": "code",
      "metadata": {
        "id": "dAv3HMEFx6T8",
        "colab_type": "code",
        "colab": {}
      },
      "source": [
        "# code here"
      ],
      "execution_count": 0,
      "outputs": []
    }
  ]
}